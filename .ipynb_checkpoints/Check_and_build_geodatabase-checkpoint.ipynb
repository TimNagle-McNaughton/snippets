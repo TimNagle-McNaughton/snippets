{
 "cells": [
  {
   "cell_type": "markdown",
   "metadata": {},
   "source": [
    "## Make a folder containing a geodatabase"
   ]
  },
  {
   "cell_type": "code",
   "execution_count": null,
   "metadata": {},
   "outputs": [],
   "source": [
    "import arcpy\n",
    "import os\n",
    "\n",
    "def MakeFolder(file_path, folder_name):\n",
    "    \n",
    "    # check if the folder already exists\n",
    "    if not os.path.exists(os.path.join(file_path, folder_name)):\n",
    "        \n",
    "        # make the folder if needed\n",
    "        os.makedirs(os.path.join(file_path, folder_name))\n",
    "    \n",
    "    # set a path to folder\n",
    "    path = os.path.join(file_path, folder_name)\n",
    "    \n",
    "    print(path + \" generated\")"
   ]
  },
  {
   "cell_type": "markdown",
   "metadata": {},
   "source": [
    "## Make a geodatabase"
   ]
  },
  {
   "cell_type": "code",
   "execution_count": null,
   "metadata": {},
   "outputs": [],
   "source": [
    "import arcpy\n",
    "import os\n",
    "\n",
    "# define a function to make databases\n",
    "def MakeGeodatabase(file_path, geodatabase_name):\n",
    "    \n",
    "    # check if the database already exists\n",
    "    if not os.path.exists(os.path.join(file_path, geodatabase_name + \".gdb\")):\n",
    "        \n",
    "        # make the database if needed\n",
    "        arcpy.CreateFileGDB_management(file_path, geodatabase_name + \".gdb\")\n",
    "    \n",
    "    # set a path to database\n",
    "    path = os.path.join(file_path, geodatabase_name + \".gdb\")\n",
    "    \n",
    "    print(path + \" generated\")"
   ]
  }
 ],
 "metadata": {
  "kernelspec": {
   "display_name": "Python 3",
   "language": "python",
   "name": "python3"
  },
  "language_info": {
   "codemirror_mode": {
    "name": "ipython",
    "version": 3
   },
   "file_extension": ".py",
   "mimetype": "text/x-python",
   "name": "python",
   "nbconvert_exporter": "python",
   "pygments_lexer": "ipython3",
   "version": "3.7.4"
  }
 },
 "nbformat": 4,
 "nbformat_minor": 2
}
