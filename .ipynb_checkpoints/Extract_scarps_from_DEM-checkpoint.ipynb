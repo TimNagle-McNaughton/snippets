{
 "cells": [
  {
   "cell_type": "markdown",
   "metadata": {},
   "source": [
    "## Extract scarps from DEMs"
   ]
  },
  {
   "cell_type": "code",
   "execution_count": 13,
   "metadata": {},
   "outputs": [],
   "source": [
    "import arcpy\n",
    "\n",
    "# define a function\n",
    "def ExtractScarps(DEM, filter_size, threshold_value, save_path, output):\n",
    "    \n",
    "    arcpy.CheckOutExtension(\"Spatial\")\n",
    "    \n",
    "    threshold_file = save_path + \"threshold\"\n",
    "    polygon_scarp_file = save_path + \"polygon_scarps\"\n",
    "    output_file = save_path + \"MBG_scarps\"\n",
    "    \n",
    "    # calculate slope\n",
    "    slope = arcpy.sa.Slope(DEM)\n",
    "\n",
    "    # apply range filter to the slope file\n",
    "    range = arcpy.sa.FocalStatistics(slope, NbrCircle(filter_size))\n",
    "\n",
    "    # extract high values from the range output\n",
    "    arcpy.RasterCalculator(\"range > \" + str(theshold_value), threshold_file)\n",
    "\n",
    "    # convert pixels to polygons with NO simplification\n",
    "    arcpy.conversion.RasterToPolygon(threshold_file, polygon_scarp_file, \"NO_SIMPLIFY\")\n",
    "\n",
    "    # run minimum bounding geometry to simplify geometry and get useful data (scarp width, length, orientation)\n",
    "    arcpy.management.MinimumBoundingGeometry(polygon_scarp_file, \"RECTANGLE_BY_WIDTH\", output, \"\", \"\",  \"MBG_FIELDS\")\n",
    "    \n",
    "    arcpy.CheckInExtension(\"Spatial\")"
   ]
  },
  {
   "cell_type": "markdown",
   "metadata": {},
   "source": [
    "## Testing"
   ]
  },
  {
   "cell_type": "code",
   "execution_count": 14,
   "metadata": {},
   "outputs": [
    {
     "ename": "AttributeError",
     "evalue": "module 'arcpy' has no attribute 'RasterCalculator'",
     "output_type": "error",
     "traceback": [
      "\u001b[1;31m---------------------------------------------------------------------------\u001b[0m",
      "\u001b[1;31mAttributeError\u001b[0m                            Traceback (most recent call last)",
      "\u001b[1;32m<ipython-input-14-937157098745>\u001b[0m in \u001b[0;36m<module>\u001b[1;34m\u001b[0m\n\u001b[0;32m      1\u001b[0m \u001b[0mDEM\u001b[0m \u001b[1;33m=\u001b[0m \u001b[1;34mr\"C:\\Mars\\Boulders\\source\\JezDEMRef.tif\"\u001b[0m\u001b[1;33m\u001b[0m\u001b[1;33m\u001b[0m\u001b[0m\n\u001b[1;32m----> 2\u001b[1;33m \u001b[0mExtractScarps\u001b[0m\u001b[1;33m(\u001b[0m\u001b[0mDEM\u001b[0m\u001b[1;33m,\u001b[0m \u001b[1;36m5\u001b[0m\u001b[1;33m,\u001b[0m \u001b[1;36m300\u001b[0m\u001b[1;33m,\u001b[0m \u001b[1;34m\"C:/Mars/\"\u001b[0m\u001b[1;33m,\u001b[0m \u001b[1;34m\"test.tif\"\u001b[0m\u001b[1;33m)\u001b[0m\u001b[1;33m\u001b[0m\u001b[1;33m\u001b[0m\u001b[0m\n\u001b[0m",
      "\u001b[1;32m<ipython-input-13-ef2a543bccbc>\u001b[0m in \u001b[0;36mExtractScarps\u001b[1;34m(DEM, filter_size, threshold_value, save_path, output)\u001b[0m\n\u001b[0;32m     17\u001b[0m \u001b[1;33m\u001b[0m\u001b[0m\n\u001b[0;32m     18\u001b[0m     \u001b[1;31m# extract high values from the range output\u001b[0m\u001b[1;33m\u001b[0m\u001b[1;33m\u001b[0m\u001b[1;33m\u001b[0m\u001b[0m\n\u001b[1;32m---> 19\u001b[1;33m     \u001b[0marcpy\u001b[0m\u001b[1;33m.\u001b[0m\u001b[0mRasterCalculator\u001b[0m\u001b[1;33m(\u001b[0m\u001b[1;34m\"range > \"\u001b[0m \u001b[1;33m+\u001b[0m \u001b[0mstr\u001b[0m\u001b[1;33m(\u001b[0m\u001b[0mtheshold_value\u001b[0m\u001b[1;33m)\u001b[0m\u001b[1;33m,\u001b[0m \u001b[0mthreshold_file\u001b[0m\u001b[1;33m)\u001b[0m\u001b[1;33m\u001b[0m\u001b[1;33m\u001b[0m\u001b[0m\n\u001b[0m\u001b[0;32m     20\u001b[0m \u001b[1;33m\u001b[0m\u001b[0m\n\u001b[0;32m     21\u001b[0m     \u001b[1;31m# convert pixels to polygons with NO simplification\u001b[0m\u001b[1;33m\u001b[0m\u001b[1;33m\u001b[0m\u001b[1;33m\u001b[0m\u001b[0m\n",
      "\u001b[1;31mAttributeError\u001b[0m: module 'arcpy' has no attribute 'RasterCalculator'"
     ]
    }
   ],
   "source": [
    "DEM = r\"C:\\Mars\\Boulders\\source\\JezDEMRef.tif\"\n",
    "ExtractScarps(DEM, 5, 300, \"C:/Mars/\", \"test.tif\")"
   ]
  }
 ],
 "metadata": {
  "kernelspec": {
   "display_name": "Python 3",
   "language": "python",
   "name": "python3"
  },
  "language_info": {
   "codemirror_mode": {
    "name": "ipython",
    "version": 3
   },
   "file_extension": ".py",
   "mimetype": "text/x-python",
   "name": "python",
   "nbconvert_exporter": "python",
   "pygments_lexer": "ipython3",
   "version": "3.6.8"
  }
 },
 "nbformat": 4,
 "nbformat_minor": 2
}
