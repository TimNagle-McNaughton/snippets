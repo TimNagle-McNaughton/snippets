{
 "cells": [
  {
   "cell_type": "markdown",
   "metadata": {},
   "source": [
    "## Extract scarps from DEMs"
   ]
  },
  {
   "cell_type": "code",
   "execution_count": 3,
   "metadata": {},
   "outputs": [],
   "source": [
    "import arcpy\n",
    "arcpy.env.overwriteOutput = True\n",
    "\n",
    "# define a function\n",
    "def ExtractScarps(DEM, filter_size, threshold_value, save_path, output):\n",
    "    \n",
    "    # check out spatial analyst\n",
    "    arcpy.CheckOutExtension(\"Spatial\")\n",
    "    \n",
    "    threshold_file = save_path + \"junk_threshold_file.tif\"\n",
    "    polygon_file = save_path + \"junk_polygon_conversion.shp\"\n",
    "    \n",
    "    # calculate slope\n",
    "    slope = arcpy.sa.Slope(DEM)\n",
    "\n",
    "    # apply range filter to the slope file\n",
    "    neighborhood = arcpy.sa.NbrCircle(5, \"CELL\")\n",
    "    slope_range = arcpy.sa.FocalStatistics(slope, neighborhood, \"RANGE\", \"\")\n",
    "\n",
    "    # extract high values from the range output\n",
    "    threshold = arcpy.Raster(slope_range) > threshold_value\n",
    "    threshold.save(threshold_file)\n",
    "\n",
    "    # convert pixels to polygons with NO simplification\n",
    "    arcpy.conversion.RasterToPolygon(threshold, polygon_file, \"NO_SIMPLIFY\")\n",
    "    \n",
    "    # extract only gridcode values\n",
    "    scarp_only = arcpy.analysis.Select(polygon_file, output, '\"gridcode\" = 1')\n",
    "    \n",
    "    # return extension\n",
    "    arcpy.CheckInExtension(\"Spatial\")"
   ]
  }
 ],
 "metadata": {
  "kernelspec": {
   "display_name": "Python 3",
   "language": "python",
   "name": "python3"
  },
  "language_info": {
   "codemirror_mode": {
    "name": "ipython",
    "version": 3
   },
   "file_extension": ".py",
   "mimetype": "text/x-python",
   "name": "python",
   "nbconvert_exporter": "python",
   "pygments_lexer": "ipython3",
   "version": "3.6.8"
  }
 },
 "nbformat": 4,
 "nbformat_minor": 2
}
