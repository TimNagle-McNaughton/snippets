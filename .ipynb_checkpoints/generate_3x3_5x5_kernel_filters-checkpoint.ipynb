{
 "cells": [
  {
   "cell_type": "markdown",
   "metadata": {},
   "source": [
    "## 3x3"
   ]
  },
  {
   "cell_type": "code",
   "execution_count": null,
   "metadata": {},
   "outputs": [],
   "source": [
    "# function for generating 3x3 kernels \n",
    "def kernel_3x3(list_of_9_values, file_path, desired_name):\n",
    "    # add formatting for file (there must be a better way)\n",
    "    list_of_9_values.insert(1, \" \")\n",
    "    list_of_9_values.insert(3, \" \")\n",
    "    list_of_9_values.insert(5, \"\\n\")\n",
    "    list_of_9_values.insert(7, \" \")\n",
    "    list_of_9_values.insert(9, \" \")\n",
    "    list_of_9_values.insert(11, \"\\n\")\n",
    "    list_of_9_values.insert(13, \" \")\n",
    "    list_of_9_values.insert(15, \" \")\n",
    "    \n",
    "    # open the file\n",
    "    file = open(file_path + desired_name +  \".txt\", \"w\")\n",
    "    \n",
    "    # write header\n",
    "    file.write(\"3 3\\n\")\n",
    "    \n",
    "    # write items\n",
    "    for item in list_of_9_values:\n",
    "        file.write(str(item))\n",
    "        \n",
    "    # close the file\n",
    "    file.close()"
   ]
  },
  {
   "cell_type": "markdown",
   "metadata": {},
   "source": [
    "## 5x5"
   ]
  },
  {
   "cell_type": "code",
   "execution_count": null,
   "metadata": {},
   "outputs": [],
   "source": [
    "# function for generating 5x5 kernels \n",
    "def kernel_5x5(list_of_25_values, file_path, desired_name):\n",
    "    # add formatting for file (there must be a better way)\n",
    "    list_of_25_values.insert(1, \" \")\n",
    "    list_of_25_values.insert(3, \" \")\n",
    "    list_of_25_values.insert(5, \" \")\n",
    "    list_of_25_values.insert(7, \" \")\n",
    "    list_of_25_values.insert(9, \"\\n\")\n",
    "    list_of_25_values.insert(11, \" \")\n",
    "    list_of_25_values.insert(13, \" \")\n",
    "    list_of_25_values.insert(15, \" \")\n",
    "    list_of_25_values.insert(17, \" \")\n",
    "    list_of_25_values.insert(19, \"\\n\")\n",
    "    list_of_25_values.insert(21, \" \")\n",
    "    list_of_25_values.insert(23, \" \")\n",
    "    list_of_25_values.insert(25, \" \")\n",
    "    list_of_25_values.insert(27, \" \")\n",
    "    list_of_25_values.insert(29, \"\\n\")\n",
    "    list_of_25_values.insert(31, \" \")\n",
    "    list_of_25_values.insert(33, \" \")\n",
    "    list_of_25_values.insert(35, \" \")\n",
    "    list_of_25_values.insert(37, \" \")\n",
    "    list_of_25_values.insert(39, \"\\n\")\n",
    "    list_of_25_values.insert(41, \" \")\n",
    "    list_of_25_values.insert(43, \" \")\n",
    "    list_of_25_values.insert(45, \" \")\n",
    "    list_of_25_values.insert(47, \" \")\n",
    "    \n",
    "    # open the file\n",
    "    file = open(file_path + desired_name +  \".txt\", \"w\")\n",
    "    \n",
    "    # write header\n",
    "    file.write(\"5 5\\n\")\n",
    "    \n",
    "    # write items\n",
    "    for item in list_of_25_values:\n",
    "        file.write(str(item))\n",
    "        \n",
    "    # close the file\n",
    "    file.close()"
   ]
  }
 ],
 "metadata": {
  "kernelspec": {
   "display_name": "Python 3",
   "language": "python",
   "name": "python3"
  },
  "language_info": {
   "codemirror_mode": {
    "name": "ipython",
    "version": 3
   },
   "file_extension": ".py",
   "mimetype": "text/x-python",
   "name": "python",
   "nbconvert_exporter": "python",
   "pygments_lexer": "ipython3",
   "version": "3.7.4"
  }
 },
 "nbformat": 4,
 "nbformat_minor": 2
}
