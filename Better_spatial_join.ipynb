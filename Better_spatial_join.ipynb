{
 "cells": [
  {
   "cell_type": "markdown",
   "metadata": {},
   "source": [
    "## Spatial join that doesn't botch field names (as much)"
   ]
  },
  {
   "cell_type": "code",
   "execution_count": null,
   "metadata": {},
   "outputs": [],
   "source": [
    "# define a better spatial join function\n",
    "def SpatialJoin(target_file, join_file, operation_format, out_name, merge_column, merge_rule):  \n",
    "    arcpy.CheckOutExtension(\"Spatial\")\n",
    "    \n",
    "    #set up field mapping\n",
    "    field_mapping = arcpy.FieldMappings()\n",
    "\n",
    "    #add the table from the points\n",
    "    field_mapping.addTable(join_file)\n",
    "\n",
    "    #add the table from the destination layer\n",
    "    field_mapping.addTable(target_file)\n",
    "\n",
    "    #get the index of the desired field\n",
    "    map_index = field_mapping.findFieldMapIndex(merge_column)\n",
    "\n",
    "    #make a new field map using the desired field\n",
    "    newf_map = field_mapping.getFieldMap(map_index)\n",
    "\n",
    "    #set the merge rule\n",
    "    newf_map.mergeRule = merge_rule\n",
    "    field_mapping.addFieldMap(newf_map)\n",
    "\n",
    "    #perform the spatial join\n",
    "    output_polygon = arcpy.analysis.SpatialJoin(target_file, join_file, out_name, \n",
    "                                                join_operation= operation_format, \n",
    "                                                join_type= \"KEEP_ALL\", field_mapping= field_mapping, \n",
    "                                                match_option= \"INTERSECT\")\n",
    "    arcpy.CheckInExtension(\"Spatial\")"
   ]
  }
 ],
 "metadata": {
  "kernelspec": {
   "display_name": "Python 3",
   "language": "python",
   "name": "python3"
  },
  "language_info": {
   "codemirror_mode": {
    "name": "ipython",
    "version": 3
   },
   "file_extension": ".py",
   "mimetype": "text/x-python",
   "name": "python",
   "nbconvert_exporter": "python",
   "pygments_lexer": "ipython3",
   "version": "3.6.8"
  }
 },
 "nbformat": 4,
 "nbformat_minor": 2
}
